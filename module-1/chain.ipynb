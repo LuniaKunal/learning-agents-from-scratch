{
 "cells": [
  {
   "cell_type": "markdown",
   "id": "d2c159d5",
   "metadata": {},
   "source": [
    "# Chain\n",
    "\n",
    "## Review\n",
    "\n",
    "We built a simple graph with nodes, normal edges, and conditional edges.\n",
    "\n",
    "## Goals\n",
    "\n",
    "Now, let's build up to a simple chain that combines 4 [concepts](https://python.langchain.com/v0.2/docs/concepts/):\n",
    "\n",
    "* Using [chat messages](https://python.langchain.com/v0.2/docs/concepts/#messages) as our graph state\n",
    "* Using [chat models](https://python.langchain.com/v0.2/docs/concepts/#chat-models) in graph nodes\n",
    "* [Binding tools](https://python.langchain.com/v0.2/docs/concepts/#tools) to our chat model\n",
    "* [Executing tool calls](https://python.langchain.com/v0.2/docs/concepts/#functiontool-calling) in graph nodes \n",
    "\n",
    "![Screenshot 2024-08-21 at 9.24.03 AM.png](https://cdn.prod.website-files.com/65b8cd72835ceeacd4449a53/66dbab08dd607b08df5e1101_chain1.png)"
   ]
  },
  {
   "cell_type": "code",
   "execution_count": 9,
   "id": "3894b530",
   "metadata": {},
   "outputs": [
    {
     "name": "stdout",
     "output_type": "stream",
     "text": [
      "==================================\u001b[1m Ai Message \u001b[0m==================================\n",
      "Name: Model\n",
      "\n",
      "So you said you were researching Bengal tigers?\n",
      "================================\u001b[1m Human Message \u001b[0m=================================\n",
      "Name: Kunal\n",
      "\n",
      "Yes, that's right.\n",
      "==================================\u001b[1m Ai Message \u001b[0m==================================\n",
      "Name: Model\n",
      "\n",
      "Great, what would you like to know about them?\n",
      "================================\u001b[1m Human Message \u001b[0m=================================\n",
      "Name: Kunal\n",
      "\n",
      "I want to learn about the best places to see them in India.\n"
     ]
    }
   ],
   "source": [
    "from langchain.schema import AIMessage, HumanMessage\n",
    "\n",
    "messages = [\n",
    "    AIMessage(content=f\"So you said you were researching Bengal tigers?\", name=\"Model\")]\n",
    "messages.append(HumanMessage(content=f\"Yes, that's right.\", name=\"Kunal\"))\n",
    "messages.append(AIMessage(content=f\"Great, what would you like to know about them?\", name=\"Model\"))\n",
    "messages.append(HumanMessage(content=f\"I want to learn about the best places to see them in India.\", name=\"Kunal\"))\n",
    "\n",
    "\n",
    "for m in messages:\n",
    "    m.pretty_print()"
   ]
  },
  {
   "cell_type": "code",
   "execution_count": 10,
   "id": "eaf1deb8",
   "metadata": {},
   "outputs": [],
   "source": [
    "import os, getpass\n",
    "def _set_env_(api_key):\n",
    "    if not os.environ.get(api_key):\n",
    "        os.environ[api_key] = getpass.getpass(f\"{api_key} : \")\n",
    "\n",
    "_set_env_('GROQ_API_KEY')"
   ]
  },
  {
   "cell_type": "code",
   "execution_count": 11,
   "id": "3433d029",
   "metadata": {},
   "outputs": [
    {
     "data": {
      "text/plain": [
       "langchain_core.messages.ai.AIMessage"
      ]
     },
     "execution_count": 11,
     "metadata": {},
     "output_type": "execute_result"
    }
   ],
   "source": [
    "from langchain_groq import ChatGroq\n",
    "llm = ChatGroq(model=\"qwen-qwq-32b\")\n",
    "result = llm.invoke(messages)\n",
    "type(result)"
   ]
  },
  {
   "cell_type": "code",
   "execution_count": 12,
   "id": "4457abf5",
   "metadata": {},
   "outputs": [
    {
     "data": {
      "text/plain": [
       "AIMessage(content='\\n<think>\\nOkay, the user wants to know the best places in India to see Bengal tigers. Let me start by recalling the major tiger reserves in India. I know that India has several Project Tiger reserves, so those would be the top spots.\\n\\nFirst, Ranthambore National Park comes to mind because it\\'s famous for its tigers and has a good track record of sightings. Then there\\'s Bandhavgarh National Park, which I think has a high density of tigers. Pench and Kanha in Madhya Pradesh are also notable. Jim Corbett National Park in Uttarakhand is another key location. Sunderban National Park in West Bengal is unique because it\\'s a mangrove habitat, though tiger sightings there might be different.\\n\\nI should list these parks with some details about each. Maybe mention their locations, best times to visit, and any unique features. It\\'s important to highlight the best time for tiger sightings, which I believe is usually during the winter months when the weather is cooler and animals are more active. Also, Sunderban is different because it\\'s in the mangroves and the only place where tigers live in saltwater, so that\\'s a point to note.\\n\\nI should check if there are other parks worth mentioning, like Periyar or Nagarahole, but the user specifically asked for India and Bengal tigers, so focusing on the main ones in India where they\\'re commonly spotted makes sense. Also, maybe include tips about the best time to visit each park, how to book safaris, and maybe some practical info like the best time of day for safaris (early morning or late afternoon).\\n\\nWait, the user might also be interested in accessibility and how to plan a trip. Should I mention that bookings for safaris are usually required in advance and can be done through the park websites or authorized tour operators? That could be helpful. Also, emphasizing that tiger sightings can\\'t be guaranteed but certain parks have higher chances.\\n\\nLet me structure the answer by listing each park with key points: name, location, highlights, best time to visit, and unique aspects. That way the user can compare and choose based on their preferences. Also, mention that it\\'s best to hire a guide for better chances of spotting tigers.\\n\\nDouble-check the info: Ranthambore in Rajasthan, Bandhavgarh in MP, Pench (there are two Pench parks, so clarify), Kanha also in MP, Corbett in Uttarakhand, Sunderbans in West Bengal. Maybe add a brief sentence about each\\'s tiger population or famous tigers, like the tigers in Ranthambore are well-known.\\n\\nAlso, note that some parks have better success rates. For example, Bandhavgarh is often cited as having the highest density. Sunderbans is unique but the tigers there are harder to see because of the terrain. So maybe rank them in order of likelihood? Or just present them as options with their own features.\\n\\nIncluding the best time to visit each: most are best in winter (November to March), but in Sunderbans, maybe the dry season is November to February as well. Also, mention that safari timings are usually in the mornings and evenings.\\n\\nI should also add a note about conservation efforts and the importance of responsible tourism to support tiger conservation. Maybe wrap up with a tip about traveling during peak season and booking early.\\n\\nAlright, putting it all together in a clear, organized way. Make sure the information is accurate and up-to-date. Avoid any inaccuracies, like confusing Pench National Park in Maharashtra with the one in MP? Wait, Pench is actually in both states, so clarify that. Also, check the spelling of park names and locations. Make sure to present the info in a user-friendly list with bullet points or sections for each park. Keep the language clear and informative but not too technical.\\n</think>\\n\\nIndia is home to several renowned tiger reserves under Project Tiger, offering opportunities to spot Bengal tigers in their natural habitats. Here’s a curated list of the **best places** to see tigers in India, along with key details to plan your visit:\\n\\n---\\n\\n### **1. Ranthambore National Park (Rajasthan)**  \\n- **Location:** Northern India, near Sawai Madhopur.  \\n- **Highlights:**  \\n  - Renowned for its high tiger sightings (one of the most popular spots).  \\n  - Famous tigers like \"Collarwali\" (a celebrity tiger who roamed freely between the park and surrounding areas).  \\n  - Scenic landscapes with the 10th-century Ranthambore Fort in the backdrop.  \\n- **Best Time to Visit:** Winter (November–March) for comfortable weather and better visibility.  \\n- **Pro Tip:** Morning safaris are preferred for tracking tigers. Book jeep safaris in advance via the park’s website.\\n\\n---\\n\\n### **2. Bandhavgarh National Park (Madhya Pradesh)**  \\n- **Location:** Central India.  \\n- **Highlights:**  \\n  - **Highest tiger density** in India (per sq km).  \\n  - Home to the legendary \"Choti Mahadevi\" tigress, a conservation success story.  \\n  - Ancient forts and dense forests.  \\n- **Best Time:** November–June (closed in monsoon).  \\n- **Pro Tip:** The core area (Tala Range) offers the best chances for sightings.  \\n\\n---\\n\\n### **3. Pench National Park (Madhya Pradesh & Maharashtra)**  \\n- **Location:** Bordering Madhya Pradesh and Maharashtra (famous for the book *The Jungle Book*).  \\n- **Highlights:**  \\n  - Diverse landscapes, including dense forests and water bodies.  \\n  - Good tiger sightings, especially in the winter.  \\n- **Best Time:** November–June.  \\n- **Pro Tip:** The Madhya Pradesh side (Pench National Park) is slightly less crowded than the Maharashtra side (Tadoba).  \\n\\n---\\n\\n### **4. Kanha National Park (Madhya Pradesh)**  \\n- **Location:** Central India.  \\n- **Highlights:**  \\n  - Iconic habitat featured in *The Jungle Book* (Bagheera’s forest).  \\n  - Home to the \"Kanha Tiger Reserve,\" with a healthy tiger population.  \\n  - Stunning meadows and Sal forests.  \\n- **Best Time:** February–June, particularly for dry-season sightings.  \\n- **Pro Tip:** Combine a visit with Bandhavgarh for a higher chance of sightings.  \\n\\n---\\n\\n### **5. Jim Corbett National Park (Uttarakhand)**  \\n- **Location:** Northern India, at the foot of the Himalayas.  \\n- **Highlights:**  \\n  - India’s oldest national park and a pioneer in tiger conservation.  \\n  - Rivers and varied terrain support a robust tiger population.  \\n- **Best Time:** Mid-November to April (closed in monsoon).  \\n- **Pro Tip:** Boat safaris on the Ramganga River offer unique perspectives.  \\n\\n---\\n\\n### **6. Sunderban National Park (West Bengal)**  \\n- **Location:** Eastern India, in the Sundarbans delta (shared with Bangladesh).  \\n- **Highlights:**  \\n  - **Unique mangrove habitat**—the only place where tigers swim in saltwater.  \\n  - Challenging sightings due to dense vegetation, but a surreal experience.  \\n- **Best Time:** November–February (dry season).  \\n- **Pro Tip:** Boat safaris are the only way to explore; sightings are less frequent but more adventurous.  \\n\\n---\\n\\n### **7. Tadoba Andhari Tiger Reserve (Maharashtra)**  \\n- **Location:** Eastern Maharashtra.  \\n- **Highlights:**  \\n  - Maharashtra’s best-known tiger reserve (part of the \"Tiger Trail\" with Pench and Nagzira).  \\n  - Good infrastructure and reliable sightings.  \\n- **Best Time:** November–June.  \\n\\n---\\n\\n### **Tips for Maximizing Your Experience:**  \\n- **Book Safaris Early:** Slots fill up quickly, especially in peak seasons.  \\n- **Choose Morning Safaris:** Tigers are more active in cooler temperatures.  \\n- **Hire a Guide:** Local naturalists can improve your chances of spotting tigers.  \\n- **Respect Wildlife:** Follow park rules to ensure ethical and safe wildlife viewing.  \\n\\n---\\n\\n### **When to Go:**  \\n- **Winter (November–March):** Ideal weather, higher chances of sightings.  \\n- **Avoid Monsoon (July–September):** Trails may be flooded, and visibility is poor.  \\n\\nIndia’s tiger reserves prioritize conservation, so visiting supports these efforts. While sightings aren’t guaranteed, these parks offer the best probabilities. Let me know if you’d like help planning a specific itinerary or learning more about a particular park! 🐯', additional_kwargs={}, response_metadata={'token_usage': {'completion_tokens': 1806, 'prompt_tokens': 71, 'total_tokens': 1877, 'completion_time': 4.460667208, 'prompt_time': 0.007403211, 'queue_time': 0.23105369, 'total_time': 4.468070419}, 'model_name': 'qwen-qwq-32b', 'system_fingerprint': 'fp_512a3da6bb', 'finish_reason': 'stop', 'logprobs': None}, id='run-746f591c-3e0d-45e1-9d76-9e83c9a5c7c4-0', usage_metadata={'input_tokens': 71, 'output_tokens': 1806, 'total_tokens': 1877})"
      ]
     },
     "execution_count": 12,
     "metadata": {},
     "output_type": "execute_result"
    }
   ],
   "source": [
    "result"
   ]
  },
  {
   "cell_type": "code",
   "execution_count": 13,
   "id": "3927829b",
   "metadata": {},
   "outputs": [
    {
     "data": {
      "text/plain": [
       "{'token_usage': {'completion_tokens': 1806,\n",
       "  'prompt_tokens': 71,\n",
       "  'total_tokens': 1877,\n",
       "  'completion_time': 4.460667208,\n",
       "  'prompt_time': 0.007403211,\n",
       "  'queue_time': 0.23105369,\n",
       "  'total_time': 4.468070419},\n",
       " 'model_name': 'qwen-qwq-32b',\n",
       " 'system_fingerprint': 'fp_512a3da6bb',\n",
       " 'finish_reason': 'stop',\n",
       " 'logprobs': None}"
      ]
     },
     "execution_count": 13,
     "metadata": {},
     "output_type": "execute_result"
    }
   ],
   "source": [
    "result.response_metadata"
   ]
  },
  {
   "cell_type": "markdown",
   "id": "c2a464f8",
   "metadata": {},
   "source": [
    "## Tools\n",
    "\n",
    "Tools are useful whenever you want a model to interact with external systems.\n",
    "\n",
    "External systems (e.g., APIs) often require a particular input schema or payload, rather than natural language. \n",
    "\n",
    "When we bind an API, for example, as a tool we given the model awareness of the required input schema.\n",
    "\n",
    "The model will choose to call a tool based upon the natural language input from the user. \n",
    "\n",
    "And, it will return an output that adheres to the tool's schema. \n",
    "\n",
    "[Many LLM providers support tool calling](https://python.langchain.com/v0.1/docs/integrations/chat/) and [tool calling interface](https://blog.langchain.dev/improving-core-tool-interfaces-and-docs-in-langchain/) in LangChain is simple. \n",
    " \n",
    "You can simply pass any Python `function` into `ChatModel.bind_tools(function)`.\n",
    "\n",
    "![Screenshot 2024-08-19 at 7.46.28 PM.png](https://cdn.prod.website-files.com/65b8cd72835ceeacd4449a53/66dbab08dc1c17a7a57f9960_chain2.png)"
   ]
  },
  {
   "cell_type": "code",
   "execution_count": 17,
   "id": "faff55e5",
   "metadata": {},
   "outputs": [],
   "source": [
    "def multipy(a: int, b: int) -> int:\n",
    "    \"\"\" Multipy a and b.\n",
    "    Agrs:\n",
    "        a: first int\n",
    "        b: first int \n",
    "    \"\"\"\n",
    "    return a*b\n",
    "\n",
    "llm_with_tools = llm.bind_tools([multipy])"
   ]
  },
  {
   "cell_type": "code",
   "execution_count": 18,
   "id": "810e5587",
   "metadata": {},
   "outputs": [],
   "source": [
    "tool_call = llm_with_tools.invoke([HumanMessage(content=f\"What is 2 multiplied by 3\", name=\"Kunal\")])"
   ]
  },
  {
   "cell_type": "code",
   "execution_count": 19,
   "id": "a2dd1a3b",
   "metadata": {},
   "outputs": [
    {
     "data": {
      "text/plain": [
       "AIMessage(content='', additional_kwargs={'tool_calls': [{'id': 'call_42pg', 'function': {'arguments': '{\"a\": 2, \"b\": 3}', 'name': 'multipy'}, 'type': 'function'}]}, response_metadata={'token_usage': {'completion_tokens': 242, 'prompt_tokens': 185, 'total_tokens': 427, 'completion_time': 0.610863832, 'prompt_time': 0.032366859, 'queue_time': 0.44546944200000005, 'total_time': 0.643230691}, 'model_name': 'qwen-qwq-32b', 'system_fingerprint': 'fp_a91d9c2cfb', 'finish_reason': 'tool_calls', 'logprobs': None}, id='run-92a8b77f-f267-4a10-8c04-f65ad2a3aa41-0', tool_calls=[{'name': 'multipy', 'args': {'a': 2, 'b': 3}, 'id': 'call_42pg', 'type': 'tool_call'}], usage_metadata={'input_tokens': 185, 'output_tokens': 242, 'total_tokens': 427})"
      ]
     },
     "execution_count": 19,
     "metadata": {},
     "output_type": "execute_result"
    }
   ],
   "source": [
    "tool_call"
   ]
  },
  {
   "cell_type": "code",
   "execution_count": 20,
   "id": "1ee5c955",
   "metadata": {},
   "outputs": [
    {
     "data": {
      "text/plain": [
       "[{'name': 'multipy',\n",
       "  'args': {'a': 2, 'b': 3},\n",
       "  'id': 'call_42pg',\n",
       "  'type': 'tool_call'}]"
      ]
     },
     "execution_count": 20,
     "metadata": {},
     "output_type": "execute_result"
    }
   ],
   "source": [
    "tool_call.tool_calls"
   ]
  },
  {
   "cell_type": "markdown",
   "id": "1e2fbad6",
   "metadata": {},
   "source": [
    "## Using messages as state\n",
    "\n",
    "With these foundations in place, we can now use [`messages`](https://python.langchain.com/v0.2/docs/concepts/#messages) in our graph state.\n",
    "\n",
    "Let's define our state, `MessagesState`, as a `TypedDict` with a single key: `messages`.\n",
    "\n",
    "`messages` is simply a list of messages, as we defined above (e.g., `HumanMessage`, etc)."
   ]
  },
  {
   "cell_type": "code",
   "execution_count": 22,
   "id": "78abd58f",
   "metadata": {},
   "outputs": [],
   "source": [
    "from typing_extensions import TypedDict\n",
    "from langchain_core.messages import AnyMessage\n",
    "\n",
    "class MessageState(TypedDict):\n",
    "    \"\"\"Message state.\"\"\"\n",
    "    messages: list[AnyMessage]"
   ]
  },
  {
   "cell_type": "markdown",
   "id": "986f94f3",
   "metadata": {},
   "source": [
    "## Reducers\n",
    "\n",
    "Now, we have a minor problem! \n",
    "\n",
    "As we discussed, each node will return a new value for our state key `messages`.\n",
    "\n",
    "But, this new value [will override](https://langchain-ai.github.io/langgraph/concepts/low_level/#reducers) the prior `messages` value.\n",
    " \n",
    "As our graph runs, we want to **append** messages to our `messages` state key.\n",
    " \n",
    "We can use [reducer functions](https://langchain-ai.github.io/langgraph/concepts/low_level/#reducers) to address this.\n",
    "\n",
    "Reducers allow us to specify how state updates are performed.\n",
    "\n",
    "If no reducer function is specified, then it is assumed that updates to the key should *override it* as we saw before.\n",
    " \n",
    "But, to append messages, we can use the pre-built `add_messages` reducer.\n",
    "\n",
    "This ensures that any messages are appended to the existing list of messages.\n",
    "\n",
    "We simply need to annotate our `messages` key with the `add_messages` reducer function as metadata."
   ]
  },
  {
   "cell_type": "code",
   "execution_count": null,
   "id": "1e0101ed",
   "metadata": {},
   "outputs": [],
   "source": [
    "from typing_extensions import Annotated\n",
    "from langgraph.graph.message import add_messages\n",
    "\n",
    "class MessageState(TypedDict):\n",
    "    \"\"\"Message state.\"\"\"\n",
    "    messages: Annotated[list[AnyMessage], add_messages]"
   ]
  },
  {
   "cell_type": "code",
   "execution_count": 29,
   "id": "f5468e28",
   "metadata": {},
   "outputs": [],
   "source": [
    "from langgraph.graph import MessagesState\n",
    "\n",
    "class MessageState(MessagesState):\n",
    "    pass"
   ]
  },
  {
   "cell_type": "code",
   "execution_count": 30,
   "id": "93a72666",
   "metadata": {},
   "outputs": [
    {
     "data": {
      "text/plain": [
       "[AIMessage(content='Hello! How can I assist you?', additional_kwargs={}, response_metadata={}, name='Model', id='bd495048-044c-458c-85e1-d028be35ef27'),\n",
       " HumanMessage(content=\"I'm looking for information on Investment in India as AI sector is growing and i want to invest in publicly traded company on NSE.\", additional_kwargs={}, response_metadata={}, name='Kunal', id='a4bb740c-dc47-483c-82f8-81e13a6913b3'),\n",
       " AIMessage(content='Sure, I can help with that...', additional_kwargs={}, response_metadata={}, name='Model', id='e6a9b5e5-b019-43fe-9668-c45beebeb55a')]"
      ]
     },
     "execution_count": 30,
     "metadata": {},
     "output_type": "execute_result"
    }
   ],
   "source": [
    "# Initial state\n",
    "initial_messages = [AIMessage(content=\"Hello! How can I assist you?\", name=\"Model\"),\n",
    "                    HumanMessage(content=\"I'm looking for information on Investment in India as AI sector is growing and i want to invest in publicly traded company on NSE.\", name=\"Kunal\")\n",
    "                   ]\n",
    "\n",
    "# New message to add\n",
    "new_message = AIMessage(content=\"Sure, I can help with that...\", name=\"Model\")\n",
    "\n",
    "# Test\n",
    "add_messages(initial_messages , new_message)"
   ]
  },
  {
   "cell_type": "code",
   "execution_count": 31,
   "id": "b2362a8b",
   "metadata": {},
   "outputs": [
    {
     "data": {
      "image/png": "[encoded data removed]",
      "text/plain": [
       "<IPython.core.display.Image object>"
      ]
     },
     "metadata": {},
     "output_type": "display_data"
    }
   ],
   "source": [
    "from IPython.display import Image, display\n",
    "from langgraph.graph import StateGraph, START, END\n",
    "    \n",
    "# Node\n",
    "def tool_calling_llm(state: MessagesState):\n",
    "    return {\"messages\": [llm_with_tools.invoke(state[\"messages\"])]}\n",
    "\n",
    "# Build graph\n",
    "builder = StateGraph(MessagesState)\n",
    "builder.add_node(\"tool_calling_llm\", tool_calling_llm)\n",
    "builder.add_edge(START, \"tool_calling_llm\")\n",
    "builder.add_edge(\"tool_calling_llm\", END)\n",
    "graph = builder.compile()\n",
    "\n",
    "# View\n",
    "display(Image(graph.get_graph().draw_mermaid_png()))"
   ]
  },
  {
   "cell_type": "code",
   "execution_count": 32,
   "id": "68108e4b",
   "metadata": {},
   "outputs": [
    {
     "name": "stdout",
     "output_type": "stream",
     "text": [
      "================================\u001b[1m Human Message \u001b[0m=================================\n",
      "\n",
      "Hello!\n",
      "==================================\u001b[1m Ai Message \u001b[0m==================================\n",
      "\n",
      "Hello! How can I assist you today?\n"
     ]
    }
   ],
   "source": [
    "messages = graph.invoke({\"messages\": HumanMessage(content=\"Hello!\")})\n",
    "for m in messages['messages']:\n",
    "    m.pretty_print()"
   ]
  },
  {
   "cell_type": "code",
   "execution_count": 33,
   "id": "f9f4c07e",
   "metadata": {},
   "outputs": [
    {
     "name": "stdout",
     "output_type": "stream",
     "text": [
      "================================\u001b[1m Human Message \u001b[0m=================================\n",
      "\n",
      "Multiply 2 and 3\n",
      "==================================\u001b[1m Ai Message \u001b[0m==================================\n",
      "Tool Calls:\n",
      "  multipy (call_3mse)\n",
      " Call ID: call_3mse\n",
      "  Args:\n",
      "    a: 2\n",
      "    b: 3\n"
     ]
    }
   ],
   "source": [
    "messages = graph.invoke({\"messages\": HumanMessage(content=\"Multiply 2 and 3\")})\n",
    "for m in messages['messages']:\n",
    "    m.pretty_print()"
   ]
  },
  {
   "cell_type": "code",
   "execution_count": null,
   "id": "f6442f8c",
   "metadata": {},
   "outputs": [],
   "source": []
  }
 ],
 "metadata": {
  "kernelspec": {
   "display_name": "LangGraph",
   "language": "python",
   "name": "python3"
  },
  "language_info": {
   "codemirror_mode": {
    "name": "ipython",
    "version": 3
   },
   "file_extension": ".py",
   "mimetype": "text/x-python",
   "name": "python",
   "nbconvert_exporter": "python",
   "pygments_lexer": "ipython3",
   "version": "3.11.12"
  }
 },
 "nbformat": 4,
 "nbformat_minor": 5
}
