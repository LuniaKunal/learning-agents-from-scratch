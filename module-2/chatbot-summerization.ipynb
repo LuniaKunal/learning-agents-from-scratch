{
 "cells": [
  {
   "cell_type": "markdown",
   "id": "9dd5ee1d",
   "metadata": {},
   "source": [
    "# Chatbot with message summarization\n",
    "## Review\n",
    "We've covered how to customize graph state schema and reducer.\n",
    "\n",
    "We've also shown a number of ways to trim or filter messages in graph state.\n",
    "\n",
    "## Goals\n",
    "Now, let's take it one step further!\n",
    "\n",
    "Rather than just trimming or filtering messages, we'll show how to use LLMs to produce a running summary of the conversation.\n",
    "\n",
    "This allows us to retain a compressed representation of the full conversation, rather than just removing it with trimming or filtering.\n",
    "\n",
    "We'll incorporate this summarization into a simple Chatbot.\n",
    "\n",
    "And we'll equip that Chatbot with memory, supporting long-running conversations without incurring high token cost / latency."
   ]
  },
  {
   "cell_type": "code",
   "execution_count": 1,
   "id": "cf2e150d",
   "metadata": {},
   "outputs": [],
   "source": [
    "import os, getpass\n",
    "\n",
    "def _set_env_(var):\n",
    "    if not os.environ.get(var):\n",
    "        print(\"--- API KEY NOT PRESENT ---\")\n",
    "        os.environ[var] = getpass.getpass(f\"{var}: \")\n",
    "_set_env_(\"OPENAI_API_KEY\")\n"
   ]
  },
  {
   "cell_type": "code",
   "execution_count": 2,
   "id": "b5c7829d",
   "metadata": {},
   "outputs": [],
   "source": [
    "_set_env_(\"LANGSMITH_API_KEY\")\n",
    "os.environ[\"LANGSMITH_TRACING\"] = \"true\"\n",
    "os.environ[\"LANGSMITH_PROJECT\"] = \"langchain-academy\""
   ]
  },
  {
   "cell_type": "code",
   "execution_count": 3,
   "id": "854d8180",
   "metadata": {},
   "outputs": [],
   "source": [
    "from langchain_groq import ChatGroq\n",
    "\n",
    "llm = ChatGroq(model=\"qwen-qwq-32b\")"
   ]
  },
  {
   "cell_type": "code",
   "execution_count": 4,
   "id": "cefa28c8",
   "metadata": {},
   "outputs": [
    {
     "data": {
      "text/plain": [
       "AIMessage(content='\\n<think>\\nOkay, the user said \"Hello\". I should respond politely. Let me think of a friendly greeting. Maybe \"Hello! How can I assist you today?\" That sounds good. It\\'s welcoming and offers help. I\\'ll go with that.\\n</think>\\n\\nHello! How can I assist you today?', additional_kwargs={}, response_metadata={'token_usage': {'completion_tokens': 61, 'prompt_tokens': 11, 'total_tokens': 72, 'completion_time': 0.137794099, 'prompt_time': 0.002740873, 'queue_time': 0.565938686, 'total_time': 0.140534972}, 'model_name': 'qwen-qwq-32b', 'system_fingerprint': 'fp_a91d9c2cfb', 'finish_reason': 'stop', 'logprobs': None}, id='run--a18497a6-e6a1-42fe-af17-74bddbd2776b-0', usage_metadata={'input_tokens': 11, 'output_tokens': 61, 'total_tokens': 72})"
      ]
     },
     "execution_count": 4,
     "metadata": {},
     "output_type": "execute_result"
    }
   ],
   "source": [
    "llm.invoke(\"Hello\")"
   ]
  },
  {
   "cell_type": "code",
   "execution_count": 5,
   "id": "bd1876c4",
   "metadata": {},
   "outputs": [],
   "source": [
    "from langgraph.graph import MessagesState\n",
    "\n",
    "class State(MessagesState):\n",
    "    summery: str"
   ]
  },
  {
   "cell_type": "code",
   "execution_count": 6,
   "id": "9af45d6c",
   "metadata": {},
   "outputs": [],
   "source": [
    "from langchain_core.messages import SystemMessage, HumanMessage, RemoveMessage\n",
    "import json\n",
    "\n",
    "def chat_model(state: State) -> json:\n",
    "    \n",
    "    summery = state.get(\"summery\")\n",
    "\n",
    "    if summery:\n",
    "        system_message = f\"Summery of the earlier conversation: {summery}\"\n",
    "\n",
    "        messages = [SystemMessage(content=system_message) + state[\"messages\"]]\n",
    "    else:\n",
    "        messages = state[\"messages\"]\n",
    "\n",
    "    return {\"messages\": llm.invoke(messages)}"
   ]
  },
  {
   "cell_type": "markdown",
   "id": "c3afd615",
   "metadata": {},
   "source": [
    "We'll define a node to produce a summary.\n",
    "\n",
    "Note, here we'll use `RemoveMessage` to filter our state after we've produced the summary."
   ]
  },
  {
   "cell_type": "code",
   "execution_count": 26,
   "id": "f66cdb16",
   "metadata": {},
   "outputs": [],
   "source": [
    "def summarize_conversation(state: State):\n",
    "    \n",
    "    # First, we get any existing summary\n",
    "    summary = state.get(\"summary\", \"\")\n",
    "\n",
    "    # Create our summarization prompt \n",
    "    if summary:\n",
    "        \n",
    "        # A summary already exists\n",
    "        summary_message = (\n",
    "            f\"This is summary of the conversation to date: {summary}\\n\\n\"\n",
    "            \"Extend the summary by taking into account the new messages above:\"\n",
    "        )\n",
    "        \n",
    "    else:\n",
    "        summary_message = \"Create a summary of the conversation above:\"\n",
    "\n",
    "    # Add prompt to our history\n",
    "    messages = state[\"messages\"] + [HumanMessage(content=summary_message)]\n",
    "    response = llm.invoke(messages)\n",
    "    \n",
    "    # Delete all but the 2 most recent messages\n",
    "    delete_messages = [RemoveMessage(id=m.id) for m in state[\"messages\"][:-2]]\n",
    "    return {\"summary\": response.content, \"messages\": delete_messages}"
   ]
  },
  {
   "cell_type": "code",
   "execution_count": 27,
   "id": "9b111ff8",
   "metadata": {},
   "outputs": [],
   "source": [
    "from langgraph.graph import END\n",
    "# Determine whether to end or summarize the conversation\n",
    "def should_continue(state: State):\n",
    "    \n",
    "    \"\"\"Return the next node to execute.\"\"\"\n",
    "    \n",
    "    messages = state[\"messages\"]\n",
    "    \n",
    "    # If there are more than six messages, then we summarize the conversation\n",
    "    if len(messages) > 6:\n",
    "        return \"summarize_conversation\"\n",
    "    \n",
    "    # Otherwise we can just end\n",
    "    return END"
   ]
  },
  {
   "cell_type": "code",
   "execution_count": null,
   "id": "257a05bf",
   "metadata": {},
   "outputs": [
    {
     "data": {
      "image/png": "[encoded data removed]",
      "text/plain": [
       "<IPython.core.display.Image object>"
      ]
     },
     "metadata": {},
     "output_type": "display_data"
    }
   ],
   "source": [
    "from IPython.display import Image, display\n",
    "from langgraph.checkpoint.memory import MemorySaver\n",
    "from langgraph.graph import StateGraph, START\n",
    "\n",
    "# Define a new graph\n",
    "workflow = StateGraph(State)\n",
    "workflow.add_node(\"conversation\", chat_model)\n",
    "workflow.add_node(summarize_conversation)\n",
    "\n",
    "# Set the entrypoint as conversation\n",
    "workflow.add_edge(START, \"conversation\")\n",
    "workflow.add_conditional_edges(\"conversation\", should_continue)\n",
    "workflow.add_edge(\"summarize_conversation\", END)\n",
    "\n",
    "# Compile\n",
    "memory = MemorySaver()\n",
    "graph = workflow.compile(checkpointer=memory)\n",
    "display(Image(graph.get_graph().draw_mermaid_png()))"
   ]
  },
  {
   "cell_type": "code",
   "execution_count": 21,
   "id": "9b7fd324",
   "metadata": {},
   "outputs": [
    {
     "name": "stdout",
     "output_type": "stream",
     "text": [
      "==================================\u001b[1m Ai Message \u001b[0m==================================\n",
      "\n",
      "\n",
      "<think>\n",
      "Okay, the user said \"hi! I'm Lance.\" I should respond in a friendly and welcoming way. Let me start by greeting them back. Maybe say \"Hello, Lance!\" to acknowledge their name. Then, I can offer assistance by asking how I can help them today. Keep it open-ended so they feel comfortable to ask anything. I should make sure the tone is positive and approachable. Let me check if there's anything else I need to include. Nope, that should be good. Alright, time to put it all together in a natural, conversational sentence.\n",
      "</think>\n",
      "\n",
      "Hello, Lance! Nice to meet you. How can I assist you today? Feel free to ask me anything! 😊\n",
      "==================================\u001b[1m Ai Message \u001b[0m==================================\n",
      "\n",
      "\n",
      "<think>\n",
      "Okay, the user just asked, \"what's my name?\" Let me think. In the initial message, the user introduced themselves as Lance. So when they first said \"hi! I'm Lance,\" I should remember that.\n",
      "\n",
      "Wait, the user is testing if I recall their name. Since they provided it earlier, I should acknowledge that. But I need to make sure I didn't miss any changes. Let me check the conversation history again.\n",
      "\n",
      "Looking back, yes, the first message was them saying their name is Lance. There's no mention of a different name since then. So the answer should be straightforward. I should respond by confirming their name and maybe ask how I can help further. Keep it friendly and helpful. Alright, that makes sense. No need to overcomplicate it.\n",
      "</think>\n",
      "\n",
      "Hello again, Lance! Your name is **Lance**. 😊 How can I assist you further?\n",
      "==================================\u001b[1m Ai Message \u001b[0m==================================\n",
      "\n",
      "\n",
      "<think>\n",
      "Okay, the user mentioned they like the 49ers. Let me figure out what they need.\n",
      "\n",
      "First, I should confirm which 49ers they're referring to. There's the NFL team, the NFL players like the 49ers from San Francisco, or maybe a college team. Since they just said \"49ers,\" the most common reference is probably the NFL team. \n",
      "\n",
      "I should respond with enthusiasm to show support. Maybe mention the current season or recent games if possible. Wait, I should check the current time. Since the user's message isn't time-stamped, I'll go with general info. \n",
      "\n",
      "I can talk about their recent performance, key players like Jimmy Garoppolo, George Kittle, or maybe Nick Bosa on the defense. Also, mention the fan community. Maybe ask if they have a favorite player or game they're excited about. \n",
      "\n",
      "I should keep it friendly and open-ended to encourage them to share more. Need to make sure not to assume too much but stay engaging. Let's structure it with emojis to keep it lively.\n",
      "</think>\n",
      "\n",
      "That's awesome, Lance! 🏈💙 The **San Francisco 49ers** are an incredible team! Are you a fan of their NFL squad? They’ve got a ton of talent, from Jimmy Garoppolo at quarterback to the dominant defense led by Nick Bosa. What’s your favorite thing about them? A favorite player or moment? Let’s chat about it! 🚨💥\n"
     ]
    }
   ],
   "source": [
    "# Create a thread\n",
    "config = {\"configurable\": {\"thread_id\": \"1\"}}\n",
    "\n",
    "# Start conversation\n",
    "input_message = HumanMessage(content=\"hi! I'm Lance\")\n",
    "output = graph.invoke({\"messages\": [input_message]}, config) \n",
    "for m in output['messages'][-1:]:\n",
    "    m.pretty_print()\n",
    "\n",
    "input_message = HumanMessage(content=\"what's my name?\")\n",
    "output = graph.invoke({\"messages\": [input_message]}, config) \n",
    "for m in output['messages'][-1:]:\n",
    "    m.pretty_print()\n",
    "\n",
    "input_message = HumanMessage(content=\"i like the 49ers!\")\n",
    "output = graph.invoke({\"messages\": [input_message]}, config) \n",
    "for m in output['messages'][-1:]:\n",
    "    m.pretty_print()"
   ]
  }
 ],
 "metadata": {
  "kernelspec": {
   "display_name": "LangGraph",
   "language": "python",
   "name": "python3"
  },
  "language_info": {
   "codemirror_mode": {
    "name": "ipython",
    "version": 3
   },
   "file_extension": ".py",
   "mimetype": "text/x-python",
   "name": "python",
   "nbconvert_exporter": "python",
   "pygments_lexer": "ipython3",
   "version": "3.11.12"
  }
 },
 "nbformat": 4,
 "nbformat_minor": 5
}
