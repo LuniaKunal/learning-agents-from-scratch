{
 "cells": [
  {
   "cell_type": "markdown",
   "id": "61344b3d",
   "metadata": {},
   "source": [
    "# Filtering and trimming messages\n",
    "\n",
    "## Review\n",
    "\n",
    "Now, we have a deeper understanding of a few things: \n",
    "\n",
    "* How to customize the graph state schema\n",
    "* How to define custom state reducers\n",
    "* How to use multiple graph state schemas\n",
    "\n",
    "## Goals\n",
    "\n",
    "Now, we can start using these concepts with models in LangGraph!\n",
    " \n",
    "In the next few sessions, we'll build towards a chatbot that has long-term memory.\n",
    "\n",
    "Because our chatbot will use messages, let's first talk a bit more about advanced ways to work with messages in graph state."
   ]
  },
  {
   "cell_type": "code",
   "execution_count": 1,
   "id": "dd1f4a7b",
   "metadata": {},
   "outputs": [],
   "source": [
    "import os, getpass\n",
    "\n",
    "def _set_env(var: str):\n",
    "    if not os.environ.get(var):\n",
    "        os.environ[var] = getpass.getpass(f\"{var}: \")\n",
    "    \n",
    "_set_env(\"OPENAI_API_KEY\")"
   ]
  },
  {
   "cell_type": "code",
   "execution_count": 2,
   "id": "135361e0",
   "metadata": {},
   "outputs": [],
   "source": [
    "_set_env(\"LANGSMITH_API_KEY\")\n",
    "os.environ[\"LANGSMITH_TRACING\"] = \"true\"\n",
    "os.environ[\"LANGSMITH_PROJECT\"] = \"langchain-academy\""
   ]
  },
  {
   "cell_type": "code",
   "execution_count": 3,
   "id": "75ffa624",
   "metadata": {},
   "outputs": [
    {
     "name": "stdout",
     "output_type": "stream",
     "text": [
      "==================================\u001b[1m Ai Message \u001b[0m==================================\n",
      "Name: Bot\n",
      "\n",
      "So you said you were researching ocean mammals?\n",
      "================================\u001b[1m Human Message \u001b[0m=================================\n",
      "Name: Lance\n",
      "\n",
      "Yes, I know about whales. But what others should I learn about?\n"
     ]
    }
   ],
   "source": [
    "from pprint import pprint\n",
    "from langchain_core.messages import AIMessage, HumanMessage\n",
    "messages = [AIMessage(f\"So you said you were researching ocean mammals?\", name=\"Bot\")]\n",
    "messages.append(HumanMessage(f\"Yes, I know about whales. But what others should I learn about?\", name=\"Lance\"))\n",
    "\n",
    "for m in messages:\n",
    "    m.pretty_print()"
   ]
  },
  {
   "cell_type": "code",
   "execution_count": 4,
   "id": "10813eaf",
   "metadata": {},
   "outputs": [
    {
     "data": {
      "text/plain": [
       "AIMessage(content='\\n<think>\\nOkay, the user is interested in ocean mammals beyond whales. Let me think of the main categories first. Cetaceans, pinnipeds, sirenians, and maybe some others like otters and manatees.\\n\\nWait, they already mentioned whales, which are cetaceans. So I should focus on other cetaceans like dolphins and porpoises. Then move on to pinnipeds—seals, sea lions, walruses. Sirenians include manatees and dugongs. \\n\\nI should also mention the differences between some groups, like how seals differ from sea lions. Maybe include some unique species like the narwhal or the vaquita. \\n\\nDon\\'t forget to mention conservation status for some of these, like the vaquita being critically endangered. That adds context about their importance. \\n\\nI need to structure it in a way that\\'s easy to follow. Start with other cetaceans, then pinnipeds, sirenians, and then maybe a few others like otters. Highlight some interesting facts to make it engaging. \\n\\nAlso, check if there\\'s any overlap or common confusion, like between porpoises and dolphins. Clarifying those points would help. Maybe mention some key behaviors or habitats to give a well-rounded overview.\\n\\nLet me list out the species first: \\n\\nCetaceans: dolphins, porpoises, orcas, belugas, narwhals, sperm whales, beaked whales, pygmy sperm whales, etc. \\n\\nPinnipeds: harbor seals, elephant seals, harp seals, walruses, sea lions (California, Steller\\'s), fur seals. \\n\\nSirenians: manatees (Amazonian, West Indian, African), dugongs. \\n\\nOthers: sea otters, polar bears (though they\\'re not fully aquatic). \\n\\nI should also explain the classification briefly so the user understands the categories. Maybe mention the key characteristics of each group. \\n\\nCheck if there\\'s any endangered species to highlight conservation aspects, like vaquita, monk seals, or dugongs. \\n\\nMake sure the answer is informative but not too technical. Use bullet points or numbered lists for clarity. \\n\\nWait, the user might be a student or someone with a casual interest. So keeping it accessible is key. \\n\\nIncluding unique features like the walrus\\'s tusks, the manatee\\'s herbivorous diet, or the narwhal\\'s tusk would make it interesting. \\n\\nAlso, maybe a note on habitat differences—some live in polar regions, others in tropical waters. \\n\\nI should wrap it up by suggesting areas of study, like conservation, biology, or behavior. Offer to provide more details if they want to dive deeper into a specific one. \\n\\nLet me structure this step by step. Start with categories beyond whales, list examples in each, add brief descriptions, and mention conservation statuses where relevant. That should cover the user\\'s question comprehensively.\\n</think>\\n\\nGreat question! While whales are iconic, there are many fascinating ocean mammals to explore. Here’s a breakdown of other groups and species to learn about:\\n\\n---\\n\\n### **1. Cetaceans (Beyond Whales):**\\n   - **Dolphins**: Over 40 species, including bottlenose dolphins, orcas (killer whales—technically dolphins!), and the **Amazon river dolphin** (the only cetacean that lives exclusively in freshwater).\\n   - **Porpoises**: Smaller than dolphins, with blunt snouts. Examples include the **vaquita** (critically endangered, found only in the Gulf of California) and harbor porpoises.\\n   - **Belugas** and **Narwhals**: Arctic-dwelling whales. The narwhal has a long, spiral tusk (a modified tooth).\\n   - **Sperm Whales**: Known for their giant heads and deep-diving abilities (they hunt giant squid).\\n   - **Beaked Whales**: Mysterious deep-divers with beak-like snouts (e.g., the **ginkgo-toothed beaked whale**, which is rarely seen).\\n\\n---\\n\\n### **2. Pinnipeds (Seals, Sea Lions, and Walruses):**\\n   - **Seals**: Typically live on ice or rocky shores. Examples include:\\n     - **Harp seals** (famous for their white coats as pups).\\n     - **Elephant seals** (massive, with males having long noses).\\n     - **Leopard seals** (predators that eat penguins).\\n   - **Sea Lions**: More agile on land, with external ear flaps. Examples:\\n     - California sea lions and Steller sea lions.\\n     - **Northern and Southern fur seals** (with thick fur that nearly led to their extinction).\\n   - **Walruses**: Arctic giants with long tusks used for breaking ice and fighting. Their whiskers help them find clams on the seafloor.\\n\\n---\\n\\n### **3. Sirenians (Sea Cows):**\\n   - **Manatees**: Gentle, slow-swimming herbivores found in warm coastal waters. There are three species:\\n     - West Indian manatee (Atlantic and Caribbean).\\n     - Amazonian manatee (rivers of the Amazon).\\n     - African manatee (West Africa).\\n   - **Dugongs**: Found in Indo-Pacific waters, similar to manatees but with a fluked tail and a more streamlined body. They’re often called \"mermaids\" by ancient sailors.\\n\\n---\\n\\n### **4. Other Groups:**\\n   - **Sea Otters**: The smallest marine mammals, known for using tools (like stones to crack shells) and having the densest fur to stay warm without blubber.\\n   - **Polar Bears**: While they’re not fully aquatic, they’re marine mammals adapted to Arctic life, relying on sea ice to hunt seals.\\n   - **Marine Inhabitants You Might Not Think Of**: Some primates, like **Hawaiian monk seals** (endangered and endemic to Hawaii), or **Mediterranean monk seals** (critically endangered).\\n\\n---\\n\\n### **5. Interesting Species to Focus On:**\\n   - **Vaquita** (most endangered cetacean).\\n   - **Hooded Seal** (inflates its nasal sac to scare predators).\\n   - **Dall’s Porpoise** (one of the fastest swimmers in the ocean).\\n   - **Dugongs vs. Manatees**: Compare their habitats, diets, and conservation statuses.\\n   - **Beluga Whales**: Known as \"canaries of the sea\" for their vocalizations.\\n\\n---\\n\\n### **Key Areas to Explore:**\\n   - **Ecology**: How they adapt to extreme environments (e.g., Arctic ice, deep oceans).\\n   - **Conservation**: Threats like bycatch, climate change, and hunting.\\n   - **Behavior**: Social structures, communication, and hunting strategies (e.g., orca \"culture\").\\n   - **Evolution**: How they transitioned from land to sea (e.g., whale evolution from land mammals).\\n\\n---\\n\\nLet me know if you’d like to dive deeper into a specific group or species! 🐋🦭🦪', additional_kwargs={}, response_metadata={'token_usage': {'completion_tokens': 1483, 'prompt_tokens': 44, 'total_tokens': 1527, 'completion_time': 3.4084481540000002, 'prompt_time': 0.004688292, 'queue_time': 0.625115647, 'total_time': 3.413136446}, 'model_name': 'qwen-qwq-32b', 'system_fingerprint': 'fp_07cd5d759a', 'finish_reason': 'stop', 'logprobs': None}, id='run--7c46a15b-7108-4934-acc7-554076a8c314-0', usage_metadata={'input_tokens': 44, 'output_tokens': 1483, 'total_tokens': 1527})"
      ]
     },
     "execution_count": 4,
     "metadata": {},
     "output_type": "execute_result"
    }
   ],
   "source": [
    "from langchain_groq import ChatGroq\n",
    "llm = ChatGroq(model=\"qwen-qwq-32b\")\n",
    "llm.invoke(messages)"
   ]
  },
  {
   "cell_type": "markdown",
   "id": "6f02d877",
   "metadata": {},
   "source": [
    "We can run our chat model in a simple graph with `MessagesState`."
   ]
  },
  {
   "cell_type": "code",
   "execution_count": 5,
   "id": "92d9d3b2",
   "metadata": {},
   "outputs": [
    {
     "data": {
      "image/png": "[encoded data removed]",
      "text/plain": [
       "<IPython.core.display.Image object>"
      ]
     },
     "metadata": {},
     "output_type": "display_data"
    }
   ],
   "source": [
    "from IPython.display import Image, display\n",
    "from langgraph.graph import StateGraph, START,END\n",
    "from langgraph.graph import MessagesState\n",
    "\n",
    "def chat_model(state: MessagesState): \n",
    "    return {\"messages\": llm.invoke(state[\"messages\"])}\n",
    "\n",
    "builder = StateGraph(MessagesState)\n",
    "builder.add_node(\"chat_model\", chat_model)\n",
    "\n",
    "builder.add_edge(START, \"chat_model\")\n",
    "builder.add_edge(\"chat_model\", END)\n",
    "\n",
    "graph = builder.compile()\n",
    "# View\n",
    "display(Image(graph.get_graph().draw_mermaid_png()))\n"
   ]
  },
  {
   "cell_type": "code",
   "execution_count": 6,
   "id": "5e93fb8d",
   "metadata": {},
   "outputs": [
    {
     "name": "stdout",
     "output_type": "stream",
     "text": [
      "==================================\u001b[1m Ai Message \u001b[0m==================================\n",
      "Name: Bot\n",
      "\n",
      "So you said you were researching ocean mammals?\n",
      "================================\u001b[1m Human Message \u001b[0m=================================\n",
      "Name: Lance\n",
      "\n",
      "Yes, I know about whales. But what others should I learn about?\n",
      "==================================\u001b[1m Ai Message \u001b[0m==================================\n",
      "\n",
      "\n",
      "<think>\n",
      "Okay, the user is interested in ocean mammals beyond whales. Let me think of other species they might not know about.\n",
      "\n",
      "First, dolphins come to mind, but they're pretty well-known too. Maybe start with the less obvious ones. Like porpoises? They often get confused with dolphins. I should mention the differences between them.\n",
      "\n",
      "Then there's the manatee and dugong. They're in different regions, so pointing out their habitats could be useful. People might not realize they're in warm coastal areas.\n",
      "\n",
      "Sea otters are definitely mammals, but sometimes people forget since they're not as big as whales. Their role in kelp forests is important, so that's a good point.\n",
      "\n",
      "Pinnipeds like seals, sea lions, and walruses. Explaining the difference between true seals and sea lions (the flippers) would help clarify distinctions.\n",
      "\n",
      "Sirenians, which include manatees, but maybe the dugong is part of that too. Wait, I should categorize them properly.\n",
      "\n",
      "Then, maybe the narwhal? They have the tusk, which is unique. People might find that interesting.\n",
      "\n",
      "The orca is technically a dolphin, but it's often called a whale. Clarifying that could help. Also, belugas and narwhals are in the same family.\n",
      "\n",
      "Marine mammals like the polar bear, but they're not fully aquatic. Still, some might consider them. Should I include them? Maybe as an honorable mention.\n",
      "\n",
      "Also, the vaquita, which is critically endangered. Raising awareness about conservation could be important here.\n",
      "\n",
      "I need to structure this in a way that's easy to follow, maybe list each category with examples. Start with the main groups: cetaceans (whales, dolphins, porpoises), pinnipeds, sirenians, and then others like sea otters and polar bears.\n",
      "\n",
      "Make sure to highlight unique features of each to make them stand out. The user probably wants to learn about variety, so emphasizing different habitats and behaviors would be good.\n",
      "\n",
      "Also, mention conservation statuses where relevant, like the vaquita. That adds context about their importance and endangerment.\n",
      "\n",
      "I should check if there's any overlap or common misconceptions to clarify, like dolphins vs. porpoises or true seals vs. sea lions.\n",
      "\n",
      "Okay, putting it all together in a clear, concise list with brief descriptions. Encourage further questions to delve deeper into any specific species.\n",
      "</think>\n",
      "\n",
      "Great question! While whales are iconic, the ocean is home to a diverse array of mammals beyond them. Here are some fascinating groups and species to explore:\n",
      "\n",
      "---\n",
      "\n",
      "### **1. Dolphins**  \n",
      "- **Differences from whales**: Dolphins are smaller, more social, and often live in coastal or open ocean habitats.  \n",
      "- **Unique species**:  \n",
      "  - **Bottlenose dolphin** (famous in pop culture).  \n",
      "  - **Orca (killer whale)**—technically a dolphin, not a whale!  \n",
      "  - **Spinner dolphin** (known for acrobatic jumps).  \n",
      "- **Key traits**: High intelligence, complex communication, and strong social bonds.\n",
      "\n",
      "---\n",
      "\n",
      "### **2. Porpoises**  \n",
      "- **Often confused with dolphins**, but they differ in shape (flatter heads, smaller teeth).  \n",
      "- **Examples**:  \n",
      "  - **Vaquita** (the world’s rarest marine mammal, critically endangered).  \n",
      "  - **Dall’s porpoise** (found in the North Pacific, known for speed).  \n",
      "\n",
      "---\n",
      "\n",
      "### **3. Sirenians (Sea Cows)**  \n",
      "- **Includes**:  \n",
      "  - **Manatees** (found in warm coastal waters of the Americas, Africa, and Asia).  \n",
      "  - **Dugongs** (similar to manatees but found in the Indo-Pacific).  \n",
      "- **Unique traits**: They’re herbivores, grazing on seagrasses, and have a slow reproductive rate.\n",
      "\n",
      "---\n",
      "\n",
      "### **4. Pinnipeds (Seals, Sea Lions, and Walruses)**  \n",
      "- **Split into two main groups**:  \n",
      "  - **Eared seals** (sea lions and fur seals) – can \"walk\" on land with their flippers.  \n",
      "  - **True seals** (e.g., harp seals, hooded seals) – move on land by wiggling, not \"walking.\"  \n",
      "  - **Walruses**: Iconic for their tusks and blubber, found in Arctic and sub-Arctic regions.  \n",
      "\n",
      "---\n",
      "\n",
      "### **5. Narwhal**  \n",
      "- The \"unicorn of the sea\" with a long, spiraled tusk (a modified tooth).  \n",
      "- **Habitat**: Arctic waters, where they live in social groups.  \n",
      "\n",
      "---\n",
      "\n",
      "### **6. Beluga Whale**  \n",
      "- **Unique traits**: Pure white coloration as adults, highly vocal (called \"sea canaries\"), and inhabit Arctic and sub-Arctic regions.  \n",
      "\n",
      "---\n",
      "\n",
      "### **7. Sea Otters**  \n",
      "- **Smallest marine mammals** (about 1–2 meters long).  \n",
      "- **Fascinating behaviors**: Use tools (like rocks) to crack open shells, and they wrap themselves in kelp to avoid drifting while sleeping.  \n",
      "- **Conservation**: Vital for kelp forest ecosystems but threatened by pollution and hunting.  \n",
      "\n",
      "---\n",
      "\n",
      "### **8. Polar Bears**  \n",
      "- While they’re not fully aquatic (they can’t swim indefinitely), they’re key Arctic marine mammals.  \n",
      "- **Adaptations**: Thick blubber, insulated fur, and expert swimmers.  \n",
      "\n",
      "---\n",
      "\n",
      "### **9. Rare or Lesser-Known Species**  \n",
      "- **Ganges River Dolphin**: Blind, freshwater-dwelling dolphin in South Asia.  \n",
      "- **Pygmy Right Whale**: The smallest baleen whale, rarely seen in remote Antarctic regions.  \n",
      "- **Hawaiian Monk Seal**: Endangered and endemic to Hawaii.  \n",
      "\n",
      "---\n",
      "\n",
      "### **10. Whales You Might Not Know**  \n",
      "- **Beaked Whales**: Deep-diving, mysterious whales (like the **Sowerby’s beaked whale**) with unusual \"beaks.\"  \n",
      "- **Bowhead Whale**: Lives in Arctic waters, can live over 200 years, and has the thickest blubber of any mammal.  \n",
      "\n",
      "---\n",
      "\n",
      "### **Key Themes to Explore**  \n",
      "- **Ecological roles**: How they influence marine ecosystems (e.g., kelp forests, nutrient cycling).  \n",
      "- **Conservation challenges**: Overfishing, climate change, pollution, and bycatch.  \n",
      "- **Behavior**: Social structures, migration, communication, and hunting strategies.  \n",
      "\n",
      "Would you like to dive deeper into any of these groups or specific species? 😊\n"
     ]
    }
   ],
   "source": [
    "output = graph.invoke({'messages': messages})\n",
    "for m in output['messages']:\n",
    "    m.pretty_print()"
   ]
  },
  {
   "cell_type": "markdown",
   "id": "016760b3",
   "metadata": {},
   "source": [
    "## Reducer\n",
    "\n",
    "A practical challenge when working with messages is managing long-running conversations. \n",
    "\n",
    "Long-running conversations result in high token usage and latency if we are not careful, because we pass a growing list of messages to the model.\n",
    "\n",
    "We have a few ways to address this.\n",
    "\n",
    "First, recall the trick we saw using `RemoveMessage` and the `add_messages` reducer."
   ]
  },
  {
   "cell_type": "code",
   "execution_count": null,
   "id": "7ffd8f98",
   "metadata": {},
   "outputs": [],
   "source": []
  }
 ],
 "metadata": {
  "kernelspec": {
   "display_name": "LangGraph",
   "language": "python",
   "name": "python3"
  },
  "language_info": {
   "codemirror_mode": {
    "name": "ipython",
    "version": 3
   },
   "file_extension": ".py",
   "mimetype": "text/x-python",
   "name": "python",
   "nbconvert_exporter": "python",
   "pygments_lexer": "ipython3",
   "version": "3.11.12"
  }
 },
 "nbformat": 4,
 "nbformat_minor": 5
}
